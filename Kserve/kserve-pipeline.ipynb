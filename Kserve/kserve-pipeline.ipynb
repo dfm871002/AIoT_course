{
 "cells": [
  {
   "cell_type": "code",
   "execution_count": 1,
   "id": "b31a1d1d-bc3d-410d-83a1-20c40baf3e55",
   "metadata": {},
   "outputs": [],
   "source": [
    "# Kubeflow Pipeline SDK\n",
    "import kfp\n",
    "import kfp.dsl as dsl\n",
    "import kfp.components as components\n",
    "from kfp.components import func_to_container_op, InputPath, OutputPath\n",
    "from typing import NamedTuple"
   ]
  },
  {
   "cell_type": "code",
   "execution_count": 2,
   "id": "67366030-a923-436f-a967-4993db65dccc",
   "metadata": {},
   "outputs": [],
   "source": [
    "def main(log_folder:str):\n",
    "    import subprocess\n",
    "    # 在虛擬容器中開啟sklearnserver，port為8001，模型為svm\n",
    "    subprocess.run([\"python\", \"-m\", \"sklearnserver\", \"--http_port\", \"8081\", \"--model_dir\", \"sklearnserver/sklearnserver/example_models/pkl/model\"])\n"
   ]
  },
  {
   "cell_type": "code",
   "execution_count": 3,
   "id": "7942d991-03e2-4b36-a502-2060c431362c",
   "metadata": {},
   "outputs": [],
   "source": [
    "# Pipeline名稱\n",
    "@dsl.pipeline(\n",
    "    name='kserve-svm',\n",
    "    description='kserve'\n",
    ")\n",
    "\n",
    "def kfservingPipeline():\n",
    "    \n",
    "    log_folder = '/information'\n",
    "    pvc_name = \"kserve-svm\"\n",
    "\n",
    "    # docker image\n",
    "    image = \"dfm871002/kserve-svm:1.0.0\"\n",
    "    \n",
    "    # 定義pipeline名稱以及對應的function\n",
    "    vop = dsl.VolumeOp(\n",
    "        name=pvc_name,\n",
    "        resource_name=\"kserve-test\",\n",
    "        size=\"1Gi\",\n",
    "        modes=dsl.VOLUME_MODE_RWM\n",
    "    )\n",
    "    \n",
    "    main_op = func_to_container_op(\n",
    "          func = main,\n",
    "          base_image = image\n",
    "    )\n",
    "    \n",
    "    #定義pipeline中每個work的順序關係\n",
    "    main_task = main_op(log_folder).add_pvolumes({log_folder:vop.volume,})"
   ]
  },
  {
   "cell_type": "code",
   "execution_count": 4,
   "id": "670bdfc3-9c7a-4169-a623-5ca10c286ee2",
   "metadata": {},
   "outputs": [],
   "source": [
    "# 編譯Pipeline\n",
    "kfp.compiler.Compiler().compile(kfservingPipeline, 'sklearn.zip')"
   ]
  }
 ],
 "metadata": {
  "kernelspec": {
   "display_name": "Python 3",
   "language": "python",
   "name": "python3"
  },
  "language_info": {
   "codemirror_mode": {
    "name": "ipython",
    "version": 3
   },
   "file_extension": ".py",
   "mimetype": "text/x-python",
   "name": "python",
   "nbconvert_exporter": "python",
   "pygments_lexer": "ipython3",
   "version": "3.8.10"
  }
 },
 "nbformat": 4,
 "nbformat_minor": 5
}
